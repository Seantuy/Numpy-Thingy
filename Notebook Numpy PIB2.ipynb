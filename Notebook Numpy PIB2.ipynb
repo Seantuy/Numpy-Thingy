{
 "cells": [
  {
   "cell_type": "markdown",
   "metadata": {},
   "source": [
    "**ChatGPT is forbidden**"
   ]
  },
  {
   "cell_type": "markdown",
   "metadata": {},
   "source": [
    "**Data generation**"
   ]
  },
  {
   "cell_type": "markdown",
   "metadata": {},
   "source": [
    "Create and visualize arrays containing only real numbers, then integers, then strings, then a mix of integers and strings"
   ]
  },
  {
   "cell_type": "code",
   "execution_count": 1,
   "metadata": {},
   "outputs": [
    {
     "name": "stdout",
     "output_type": "stream",
     "text": [
      "Collecting numpy\n",
      "  Downloading numpy-1.26.2-cp310-cp310-win_amd64.whl (15.8 MB)\n",
      "     ---------------------------------------- 15.8/15.8 MB 7.4 MB/s eta 0:00:00\n",
      "Installing collected packages: numpy\n",
      "Successfully installed numpy-1.26.2\n",
      "Note: you may need to restart the kernel to use updated packages.\n"
     ]
    },
    {
     "name": "stderr",
     "output_type": "stream",
     "text": [
      "  WARNING: The script f2py.exe is installed in 'c:\\Programs Files\\Python\\Python310\\Scripts' which is not on PATH.\n",
      "  Consider adding this directory to PATH or, if you prefer to suppress this warning, use --no-warn-script-location.\n",
      "WARNING: You are using pip version 22.0.4; however, version 23.3.1 is available.\n",
      "You should consider upgrading via the 'c:\\Programs Files\\Python\\Python310\\python.exe -m pip install --upgrade pip' command.\n"
     ]
    }
   ],
   "source": [
    "pip install numpy"
   ]
  },
  {
   "cell_type": "code",
   "execution_count": 11,
   "metadata": {},
   "outputs": [],
   "source": [
    "import numpy as np\n",
    "sample_length = 10\n",
    "values = np.random.randint(low=10000, high= 15000, size = sample_length)\n",
    "columns = []\n",
    "for i in values:\n",
    "     columns.append('q' + str(i))"
   ]
  },
  {
   "cell_type": "markdown",
   "metadata": {},
   "source": [
    "Add two arrays made of integers, element by element (the two arrays must be the same size)"
   ]
  },
  {
   "cell_type": "code",
   "execution_count": 10,
   "metadata": {},
   "outputs": [],
   "source": [
    "array_1 = np.array([1,1,4,5])\n",
    "array_2 = np.array([1,3,4])\n",
    "\n",
    "out = (array_1+array_2[:,None]).ravel()"
   ]
  },
  {
   "cell_type": "markdown",
   "metadata": {},
   "source": [
    "Create a 3*3 array including only zeros on the first line, then 1s on the second line, then the number 5 on the third line"
   ]
  },
  {
   "cell_type": "code",
   "execution_count": 9,
   "metadata": {},
   "outputs": [
    {
     "name": "stdout",
     "output_type": "stream",
     "text": [
      "[[0. 0. 0.]\n",
      " [1. 1. 1.]\n",
      " [5. 5. 5.]]\n"
     ]
    }
   ],
   "source": [
    "my_array = np.zeros((3, 3))\n",
    "my_array[1, :] = 1\n",
    "my_array[2, :] = 5\n",
    "\n",
    "print(my_array)"
   ]
  },
  {
   "cell_type": "markdown",
   "metadata": {},
   "source": [
    "Extract the shape attribute from this array"
   ]
  },
  {
   "cell_type": "code",
   "execution_count": 8,
   "metadata": {},
   "outputs": [
    {
     "name": "stdout",
     "output_type": "stream",
     "text": [
      "shape of array : (3, 3, 3)\n"
     ]
    }
   ],
   "source": [
    "print('shape of array :', my_array.shape)"
   ]
  },
  {
   "cell_type": "markdown",
   "metadata": {},
   "source": [
    "Create an array of 3 by 3 by 3 including only real numbers chosen from a normal distribution"
   ]
  },
  {
   "cell_type": "code",
   "execution_count": 7,
   "metadata": {},
   "outputs": [
    {
     "name": "stdout",
     "output_type": "stream",
     "text": [
      "[[[ 0.34648948  0.94286185  0.93356474]\n",
      "  [ 1.08928308 -0.52639637  0.61874298]\n",
      "  [-0.21805356  0.83280708 -0.65217301]]\n",
      "\n",
      " [[ 0.43043317  0.82631689  0.05255127]\n",
      "  [-0.5608492   0.67982937  0.01651576]\n",
      "  [-0.45699924  0.08363165 -1.47434547]]\n",
      "\n",
      " [[ 0.04935381  1.49091968  0.92305947]\n",
      "  [-0.37236563 -0.5316894  -0.10562447]\n",
      "  [-1.15047949  0.11763102  0.19666202]]]\n"
     ]
    }
   ],
   "source": [
    "my_array = np.random.normal(size=(3, 3, 3))\n",
    "print(my_array)"
   ]
  },
  {
   "cell_type": "markdown",
   "metadata": {},
   "source": [
    "Create a vector comprising 7 equally spaced values, between 2 and 3"
   ]
  },
  {
   "cell_type": "code",
   "execution_count": 3,
   "metadata": {},
   "outputs": [
    {
     "name": "stdout",
     "output_type": "stream",
     "text": [
      "[2.         2.16666667 2.33333333 2.5        2.66666667 2.83333333\n",
      " 3.        ]\n"
     ]
    }
   ],
   "source": [
    "vector = np.linspace(2, 3, 7)\n",
    "print(vector)\n"
   ]
  },
  {
   "cell_type": "markdown",
   "metadata": {},
   "source": [
    "Use the choice function to sample 5 values ​​from this last vector, once with replacement, and once without replacement"
   ]
  },
  {
   "cell_type": "code",
   "execution_count": 6,
   "metadata": {},
   "outputs": [
    {
     "name": "stdout",
     "output_type": "stream",
     "text": [
      "Sample with replacement: [13 18 16 15 16]\n",
      "Sample without replacement: [16 19 13 18 15]\n"
     ]
    }
   ],
   "source": [
    "\n",
    "sample_with_replacement = np.random.choice(vector, size=5, replace=True)\n",
    "print(\"Sample with replacement:\", sample_with_replacement)\n",
    "\n",
    "\n",
    "sample_without_replacement = np.random.choice(vector, size=5, replace=False)\n",
    "print(\"Sample without replacement:\", sample_without_replacement)\n"
   ]
  },
  {
   "cell_type": "markdown",
   "metadata": {},
   "source": [
    "Create a vector corresponding to a sequence of numbers, from 13 to 19, counting in steps of one"
   ]
  },
  {
   "cell_type": "code",
   "execution_count": 4,
   "metadata": {},
   "outputs": [
    {
     "name": "stdout",
     "output_type": "stream",
     "text": [
      "[13, 14, 15, 16, 17, 18, 19]\n"
     ]
    }
   ],
   "source": [
    "vector = [x for x in range(13, 20)]\n",
    "print(vector)\n"
   ]
  },
  {
   "cell_type": "markdown",
   "metadata": {},
   "source": [
    "Create a 5*5 identity matrix"
   ]
  },
  {
   "cell_type": "code",
   "execution_count": 13,
   "metadata": {},
   "outputs": [
    {
     "name": "stdout",
     "output_type": "stream",
     "text": [
      "[[1. 0. 0. 0. 0.]\n",
      " [0. 1. 0. 0. 0.]\n",
      " [0. 0. 1. 0. 0.]\n",
      " [0. 0. 0. 1. 0.]\n",
      " [0. 0. 0. 0. 1.]]\n"
     ]
    }
   ],
   "source": [
    "a=np.identity(5)\n",
    "print(a)"
   ]
  },
  {
   "cell_type": "markdown",
   "metadata": {},
   "source": [
    "Create a 5*5 matrix of zeros, with 1 on the diagonal. Then specifically extract this diagonal"
   ]
  },
  {
   "cell_type": "code",
   "execution_count": 15,
   "metadata": {},
   "outputs": [
    {
     "name": "stdout",
     "output_type": "stream",
     "text": [
      "[1. 1. 1. 1. 1.]\n"
     ]
    }
   ],
   "source": [
    "diag=np.diag(a)\n",
    "print(diag)"
   ]
  },
  {
   "cell_type": "markdown",
   "metadata": {},
   "source": [
    "Complete this NumPy line to determine if the elements of a vector are finite (not infinite or not\n",
    "a number)"
   ]
  },
  {
   "cell_type": "code",
   "execution_count": 16,
   "metadata": {},
   "outputs": [
    {
     "name": "stdout",
     "output_type": "stream",
     "text": [
      "[ True  True False False]\n"
     ]
    }
   ],
   "source": [
    "a = np.array([1, 0, np.nan, np.inf]) \n",
    "print(np.isfinite(a))"
   ]
  },
  {
   "cell_type": "markdown",
   "metadata": {},
   "source": [
    "Complete this NumPy program to test element by element if it corresponds to infinity (positive\n",
    "or negative)"
   ]
  },
  {
   "cell_type": "code",
   "execution_count": 17,
   "metadata": {},
   "outputs": [
    {
     "name": "stdout",
     "output_type": "stream",
     "text": [
      "[False False False  True]\n"
     ]
    }
   ],
   "source": [
    "b=np.array([1, 0, np.nan, np.inf])\n",
    "print(np.isinf(b))"
   ]
  },
  {
   "cell_type": "markdown",
   "metadata": {},
   "source": [
    "Complete this NumPy program to perform a comparison by element (equal, then equal to\n",
    "a certain tolerance) of two given tables"
   ]
  },
  {
   "cell_type": "code",
   "execution_count": 18,
   "metadata": {},
   "outputs": [
    {
     "name": "stdout",
     "output_type": "stream",
     "text": [
      "[ True  True  True  True  True  True False]\n"
     ]
    }
   ],
   "source": [
    "x = np.array([72, 79, -135, 120, -10, 60, 100])\n",
    "y = np.array([72, 79, -135, 120, -10, 60, 100.01])\n",
    "print(np.equal(x, y))"
   ]
  },
  {
   "cell_type": "markdown",
   "metadata": {},
   "source": [
    "**Subsetting & reshaping**"
   ]
  },
  {
   "cell_type": "markdown",
   "metadata": {},
   "source": [
    "Create an array of 7 by 7 including only real numbers chosen from a normal distribution, then select only the first row, the first column, all columns up to the third, and the element of the second column and third row"
   ]
  },
  {
   "cell_type": "code",
   "execution_count": 19,
   "metadata": {},
   "outputs": [
    {
     "name": "stdout",
     "output_type": "stream",
     "text": [
      "First Row: [-0.35166985  0.20783924  0.01416339  1.40345433 -1.90778497 -1.88005888\n",
      "  0.13130251]\n",
      "First Column: [-0.35166985  0.62583058 -0.32588754 -1.45309205 -1.718128   -0.27956276\n",
      "  0.25964816]\n",
      "All Columns Up to Third: [[-0.35166985  0.20783924  0.01416339]\n",
      " [ 0.62583058 -0.34456531  0.12296315]\n",
      " [-0.32588754 -0.56732195  0.1221385 ]\n",
      " [-1.45309205 -0.55668322 -2.134473  ]\n",
      " [-1.718128   -0.197047   -1.21125508]\n",
      " [-0.27956276 -0.87138342 -0.3528687 ]\n",
      " [ 0.25964816  2.06009819  1.02017186]]\n",
      "Element in Second Column and Third Row: -0.567321949817992\n"
     ]
    }
   ],
   "source": [
    "\n",
    "array = np.random.randn(7, 7)\n",
    "\n",
    "first_row = array[0, :]\n",
    "\n",
    "first_column = array[:, 0]\n",
    "\n",
    "up_to_third_column = array[:, :3]\n",
    "\n",
    "element_2nd_col_3rd_row = array[2, 1]  \n",
    "\n",
    "print(\"First Row:\", first_row)\n",
    "print(\"First Column:\", first_column)\n",
    "print(\"All Columns Up to Third:\", up_to_third_column)\n",
    "print(\"Element in Second Column and Third Row:\", element_2nd_col_3rd_row)\n"
   ]
  },
  {
   "cell_type": "markdown",
   "metadata": {},
   "source": [
    "Create an array that is the repetition of one 1, two 2s, and three 3s, then from this vector, create a new array including the \"unique\" values ​​(i.e., 1, 2, and 3)"
   ]
  },
  {
   "cell_type": "code",
   "execution_count": 20,
   "metadata": {},
   "outputs": [
    {
     "name": "stdout",
     "output_type": "stream",
     "text": [
      "Original array with repetitions: [1 2 2 3 3 3]\n",
      "Unique values: [1 2 3]\n"
     ]
    }
   ],
   "source": [
    "\n",
    "arr = np.repeat([1, 2, 3], [1, 2, 3])\n",
    "unique_values = np.unique(arr)\n",
    "\n",
    "print(\"Original array with repetitions:\", arr)\n",
    "print(\"Unique values:\", unique_values)\n"
   ]
  },
  {
   "cell_type": "markdown",
   "metadata": {},
   "source": [
    "Créez un array de 5*5 comprenant des chiffres entiers choisis aléatoirement, puis réalisez une transposition de cette matrice"
   ]
  },
  {
   "cell_type": "code",
   "execution_count": 21,
   "metadata": {},
   "outputs": [
    {
     "name": "stdout",
     "output_type": "stream",
     "text": [
      "Original Array:\n",
      "[[6 6 9 1 7]\n",
      " [9 4 4 8 6]\n",
      " [4 2 8 5 7]\n",
      " [6 0 1 9 8]\n",
      " [8 1 9 0 5]]\n",
      "\n",
      "Transposed Array:\n",
      "[[6 9 4 6 8]\n",
      " [6 4 2 0 1]\n",
      " [9 4 8 1 9]\n",
      " [1 8 5 9 0]\n",
      " [7 6 7 8 5]]\n"
     ]
    }
   ],
   "source": [
    "\n",
    "random_array = np.random.randint(0, 10, (5, 5))\n",
    "\n",
    "print(\"Original Array:\")\n",
    "print(random_array)\n",
    "\n",
    "transposed_array = np.transpose(random_array)\n",
    "\n",
    "print(\"\\nTransposed Array:\")\n",
    "print(transposed_array)\n"
   ]
  },
  {
   "cell_type": "markdown",
   "metadata": {},
   "source": [
    "Create a vector of 25 successive integers, then use reshape to make it a 5*5 matrix. Then play with the reshape function to illustrate how it works"
   ]
  },
  {
   "cell_type": "code",
   "execution_count": 31,
   "metadata": {},
   "outputs": [
    {
     "name": "stdout",
     "output_type": "stream",
     "text": [
      "[[ 0  1  2  3  4]\n",
      " [ 5  6  7  8  9]\n",
      " [10 11 12 13 14]\n",
      " [15 16 17 18 19]\n",
      " [20 21 22 23 24]]\n"
     ]
    }
   ],
   "source": [
    "vector = np.arange(25)\n",
    "reshapee=vector.reshape(5,5)\n",
    "print(reshapee)"
   ]
  },
  {
   "cell_type": "markdown",
   "metadata": {},
   "source": [
    "Make a broadcast of two arrays of your design"
   ]
  },
  {
   "cell_type": "code",
   "execution_count": 32,
   "metadata": {},
   "outputs": [
    {
     "name": "stdout",
     "output_type": "stream",
     "text": [
      "[17 11 19]\n",
      "3\n",
      "[20 14 22]\n"
     ]
    }
   ],
   "source": [
    "\n",
    "a = np.array([17, 11, 19])\n",
    "print(a)\n",
    "b = 3\n",
    "print(b)\n",
    "\n",
    "\n",
    "c = a + b \n",
    "print(c)\n"
   ]
  },
  {
   "cell_type": "markdown",
   "metadata": {},
   "source": [
    "Illustrate “type casting” by changing the data type contained in an array of your choice"
   ]
  },
  {
   "cell_type": "code",
   "execution_count": null,
   "metadata": {},
   "outputs": [],
   "source": [
    "\n",
    "original_array = np.array([1, 2, 3, 4, 5])\n",
    "\n",
    "print(\"Original Array Data Type:\", original_array.dtype)\n",
    "\n",
    "float_array = original_array.astype(np.float64)\n",
    "\n",
    "print(\"Float Array Data Type:\", float_array.dtype)\n"
   ]
  },
  {
   "cell_type": "markdown",
   "metadata": {},
   "source": [
    "Create a 4*4 array including integers, which you will cut in half using vsplit"
   ]
  },
  {
   "cell_type": "code",
   "execution_count": null,
   "metadata": {},
   "outputs": [],
   "source": [
    "\n",
    "array_4x4 = np.array([[1, 2, 3, 4],\n",
    "                       [5, 6, 7, 8],\n",
    "                       [9, 10, 11, 12],\n",
    "                       [13, 14, 15, 16]])\n",
    "\n",
    "half1, half2 = np.vsplit(array_4x4, 2)\n"
   ]
  },
  {
   "cell_type": "markdown",
   "metadata": {},
   "source": [
    "Create a 4*4 array of integers, which you \"unfold\" into a 1D vector using the reshape command. You will then use the shuffle and permutation commands to mix these numbers"
   ]
  },
  {
   "cell_type": "code",
   "execution_count": null,
   "metadata": {},
   "outputs": [],
   "source": [
    "\n",
    "array_4x4 = np.array([[1, 2, 3, 4],\n",
    "                       [5, 6, 7, 8],\n",
    "                       [9, 10, 11, 12],\n",
    "                       [13, 14, 15, 16]])\n",
    "\n",
    "vector = array_4x4.reshape(-1)\n",
    "\n",
    "\n",
    "np.random.shuffle(vector)\n",
    "\n",
    "permuted_indices = np.random.permutation(len(vector))\n",
    "permuted_vector = vector[permuted_indices]\n"
   ]
  },
  {
   "cell_type": "markdown",
   "metadata": {},
   "source": [
    "Merge a 3*3 matrix made of integers, with a vector of three elements, once horizontally, and once vertically"
   ]
  },
  {
   "cell_type": "code",
   "execution_count": null,
   "metadata": {},
   "outputs": [],
   "source": [
    "\n",
    "matrix_3x3 = np.array([[1, 2, 3],\n",
    "                        [4, 5, 6],\n",
    "                        [7, 8, 9]])\n",
    "\n",
    "\n",
    "vector = np.array([10, 11, 12])\n",
    "\n",
    "merged_horizontal = np.hstack((matrix_3x3, vector.reshape(-1, 1)))\n",
    "\n",
    "merged_vertical = np.vstack((matrix_3x3, vector))\n"
   ]
  },
  {
   "cell_type": "markdown",
   "metadata": {},
   "source": [
    "Demonstrate your mastery and understanding of the resize command, then the argsort command. Make comments"
   ]
  },
  {
   "cell_type": "code",
   "execution_count": null,
   "metadata": {},
   "outputs": [],
   "source": [
    "\n",
    "initial_array = np.array([4, 2, 7, 1, 9])\n",
    "\n",
    "resized_array = np.resize(initial_array, (3, 3))\n",
    "\n",
    "\n",
    "print(\"Resized Array:\")\n",
    "print(resized_array)\n",
    "\n",
    "\n",
    "sorted_indices = np.argsort(initial_array)\n",
    "\n",
    "\n",
    "print(\"\\nSorted Indices:\")\n",
    "print(sorted_indices)\n"
   ]
  },
  {
   "cell_type": "markdown",
   "metadata": {},
   "source": [
    "Write a NumPy program to get the n largest values ​​of an array, use np.partition and play with both positive and negative values ​​of n, the second argument of the function, before explaining in your words what is happening. pass"
   ]
  },
  {
   "cell_type": "code",
   "execution_count": null,
   "metadata": {},
   "outputs": [],
   "source": [
    "\n",
    "arr = np.array([3, 1, 8, 4, 7, 2, 9, 6, 5])\n",
    "\n",
    "n_positive = 3\n",
    "largest_values_pos = arr[np.argpartition(-arr, n_positive)[:n_positive]]\n",
    "\n",
    "n_negative = -3\n",
    "largest_values_neg = arr[np.argpartition(arr, n_negative)[:n_negative]]\n",
    "\n",
    "print(f\"Array: {arr}\")\n",
    "print(f\"n = {n_positive}, Largest Values: {largest_values_pos}\")\n",
    "print(f\"n = {n_negative}, Largest Values: {largest_values_neg}\")\n"
   ]
  },
  {
   "cell_type": "markdown",
   "metadata": {},
   "source": [
    "Sort a 2*2 array, on the one hand before having flattened it, and on the other hand after having flattened it"
   ]
  },
  {
   "cell_type": "code",
   "execution_count": 4,
   "metadata": {},
   "outputs": [],
   "source": [
    "\n",
    "array_2x2 = np.array([[4, 2],\n",
    "                       [3, 1]])\n",
    "\n",
    "sorted_before_flatten = np.sort(array_2x2, axis=None)\n",
    "\n",
    "flattened_array = array_2x2.flatten()\n",
    "sorted_after_flatten = np.sort(flattened_array)\n",
    "\n",
    "print(\"Sorted 2x2 array before flattening:\")\n",
    "print(sorted_before_flatten)\n",
    "\n",
    "print(\"\\nSorted flattened array:\")\n",
    "print(sorted_after_flatten)\n"
   ]
  },
  {
   "cell_type": "markdown",
   "metadata": {},
   "source": [
    "Produce a 1D array of the size of your choice, containing a random number of 2 between 5 and 10. Count the number of times the value 2 is repeated in the array."
   ]
  },
  {
   "cell_type": "code",
   "execution_count": null,
   "metadata": {},
   "outputs": [],
   "source": [
    "\n",
    "array_size = np.random.randint(5, 11)\n",
    "\n",
    "random_array = np.random.randint(0, 4, array_size)\n",
    "\n",
    "\n",
    "num_twos = np.random.randint(1, array_size)  \n",
    "random_indices = np.random.choice(range(array_size), num_twos, replace=False)\n",
    "random_array[random_indices] = 2\n",
    "\n",
    "count_twos = np.count_nonzero(random_array == 2)\n",
    "\n",
    "print(\"Generated Array:\", random_array)\n",
    "print(\"Number of times the value 2 is repeated:\", count_twos)\n"
   ]
  },
  {
   "cell_type": "markdown",
   "metadata": {},
   "source": [
    "Create an integer vector of size 30 with numbers between 1 and 12. Then use np.isin to check if the numbers 4, 6 and 7 appeared in the sequence"
   ]
  },
  {
   "cell_type": "code",
   "execution_count": null,
   "metadata": {},
   "outputs": [],
   "source": [
    "\n",
    "\n",
    "integer_vector = np.random.randint(1, 13, 30)\n",
    "check_numbers = np.isin([4, 6, 7], integer_vector)\n",
    "print(check_numbers)\n"
   ]
  },
  {
   "cell_type": "markdown",
   "metadata": {},
   "source": [
    "**np.where**"
   ]
  },
  {
   "cell_type": "markdown",
   "metadata": {},
   "source": [
    "Create an integer vector of size 30 with numbers between 1 and 12, then use the np.where function to identify indexes of numbers greater than 6"
   ]
  },
  {
   "cell_type": "code",
   "execution_count": null,
   "metadata": {},
   "outputs": [],
   "source": [
    "\n",
    "integer_vector = np.random.randint(1, 13, 30)\n",
    "indexes_greater_than_6 = np.where(integer_vector > 6)\n",
    "print(indexes_greater_than_6)\n"
   ]
  },
  {
   "cell_type": "markdown",
   "metadata": {},
   "source": [
    "**Données manquantes**"
   ]
  },
  {
   "cell_type": "markdown",
   "metadata": {},
   "source": [
    "Create an array of 3 * 3 and introduce a missing value at index [0,0], via np.nan"
   ]
  },
  {
   "cell_type": "code",
   "execution_count": null,
   "metadata": {},
   "outputs": [],
   "source": [
    "\n",
    "\n",
    "array_3x3 = np.array([[np.nan, 2, 3],\n",
    "                       [4, 5, 6],\n",
    "                       [7, 8, 9]])\n"
   ]
  },
  {
   "cell_type": "markdown",
   "metadata": {},
   "source": [
    "Transform this missing value into zero using np.fillna"
   ]
  },
  {
   "cell_type": "code",
   "execution_count": null,
   "metadata": {},
   "outputs": [],
   "source": [
    "\n",
    "\n",
    "array_3x3 = np.array([[np.nan, 2, 3],\n",
    "                       [4, 5, 6],\n",
    "                       [7, 8, 9]])\n",
    "\n",
    "array_3x3 = np.nan_to_num(array_3x3, nan=0)\n"
   ]
  },
  {
   "cell_type": "markdown",
   "metadata": {},
   "source": [
    "You have two sets of integers: A = {1, 2, 3, 4, 5} and B = {3, 4, 5, 6, 7}. Write a program in Python using the appropriate function to find the union of these two sets and return the result."
   ]
  },
  {
   "cell_type": "code",
   "execution_count": null,
   "metadata": {},
   "outputs": [],
   "source": [
    "\n",
    "A = {1, 2, 3, 4, 5}\n",
    "B = {3, 4, 5, 6, 7}\n",
    "\n",
    "\n",
    "union_result = A.union(B)\n",
    "\n",
    "print(\"Union of sets A and B:\", union_result)\n"
   ]
  },
  {
   "cell_type": "markdown",
   "metadata": {},
   "source": [
    "You have two sets of integers: A = {1, 2, 3, 4, 5} and B = {3, 4, 5, 6, 7}. Write a program in Python using the appropriate function to find the intersection of these two sets and return the result"
   ]
  },
  {
   "cell_type": "code",
   "execution_count": null,
   "metadata": {},
   "outputs": [],
   "source": [
    "A = {1, 2, 3, 4, 5}\n",
    "B = {3, 4, 5, 6, 7}\n",
    "\n",
    "intersection_result = A.intersection(B)\n",
    "\n",
    "print(intersection_result)\n"
   ]
  },
  {
   "cell_type": "markdown",
   "metadata": {},
   "source": [
    "You have a set of integer values ​​= {2, 4, 6}, and a NumPy array = [1, 2, 3, 4, 5]. Write a program in Python using np.in1d ​​to check if each element in array belongs to the set values. The program must return an array of booleans indicating the membership of each element"
   ]
  },
  {
   "cell_type": "code",
   "execution_count": null,
   "metadata": {},
   "outputs": [],
   "source": [
    "\n",
    "set_values = {2, 4, 6}\n",
    "array_values = np.array([1, 2, 3, 4, 5])\n",
    "\n",
    "membership_result = np.in1d(array_values, list(set_values))\n",
    "\n",
    "print(membership_result)\n"
   ]
  },
  {
   "cell_type": "markdown",
   "metadata": {},
   "source": [
    "You have two sets of integers: A = {1, 2, 3, 4, 5} and B = {3, 4, 5, 6, 7}. Write a program in Python using np.setdiff1d to find elements that are in A but not in B, then return the result."
   ]
  },
  {
   "cell_type": "code",
   "execution_count": null,
   "metadata": {},
   "outputs": [],
   "source": [
    "\n",
    "A = {1, 2, 3, 4, 5}\n",
    "B = {3, 4, 5, 6, 7}\n",
    "\n",
    "\n",
    "result = np.setdiff1d(np.array(list(A)), np.array(list(B)))\n",
    "\n",
    "print(result)\n"
   ]
  },
  {
   "cell_type": "markdown",
   "metadata": {},
   "source": [
    "Write a function that takes a NumPy array as input and returns a new array containing the differences between consecutive elements of the input array. For example, if the input is [1, 3, 7, 11], the result should be [2, 4, 4]."
   ]
  },
  {
   "cell_type": "code",
   "execution_count": null,
   "metadata": {},
   "outputs": [],
   "source": [
    "\n",
    "def consecutive_differences(arr):\n",
    "    return np.diff(arr)\n",
    "\n",
    "# Example usage:\n",
    "input_array = np.array([1, 3, 7, 11])\n",
    "result = consecutive_differences(input_array)\n",
    "print(result)\n"
   ]
  },
  {
   "cell_type": "markdown",
   "metadata": {},
   "source": [
    "**Calculus with NumPy**"
   ]
  },
  {
   "cell_type": "markdown",
   "metadata": {},
   "source": [
    "Create a matrix of 4*4 real numbers, both negative and positive, then calculate for each row the sum, average, and cumulative sum"
   ]
  },
  {
   "cell_type": "code",
   "execution_count": null,
   "metadata": {},
   "outputs": [],
   "source": [
    "import numpy as np\n",
    "\n",
    "# Creating a 4x4 matrix of real numbers\n",
    "matrix_4x4 = np.array([[1.5, -2.2, 3.1, -4.5],\n",
    "                       [2.0, -3.0, 4.0, -5.0],\n",
    "                       [-1.1, 2.2, -3.3, 4.4],\n",
    "                       [1.0, -2.0, 3.0, -4.0]])\n",
    "\n",
    "# Calculating sum, average, and cumulative sum for each row\n",
    "sum_per_row = np.sum(matrix_4x4, axis=1)\n",
    "average_per_row = np.mean(matrix_4x4, axis=1)\n",
    "cumulative_sum_per_row = np.cumsum(matrix_4x4, axis=1)\n",
    "\n",
    "print(\"Sum per row:\")\n",
    "print(sum_per_row)\n",
    "print(\"\\nAverage per row:\")\n",
    "print(average_per_row)\n",
    "print(\"\\nCumulative sum per row:\")\n",
    "print(cumulative_sum_per_row)\n"
   ]
  },
  {
   "cell_type": "markdown",
   "metadata": {},
   "source": [
    "Repeat the previous operation by averaging the absolute values ​​of the numbers, then the minimum value and the maximum value; you will finally create a last column using the maximum value with the np.round function"
   ]
  },
  {
   "cell_type": "code",
   "execution_count": null,
   "metadata": {},
   "outputs": [],
   "source": [
    "import numpy as np\n",
    "\n",
    "# Creating a 4x4 matrix of real numbers\n",
    "matrix_4x4 = np.array([[1.5, -2.2, 3.1, -4.5],\n",
    "                       [2.0, -3.0, 4.0, -5.0],\n",
    "                       [-1.1, 2.2, -3.3, 4.4],\n",
    "                       [1.0, -2.0, 3.0, -4.0]])\n",
    "\n",
    "# Averaging absolute values of numbers for each row\n",
    "average_abs_values = np.mean(np.abs(matrix_4x4), axis=1)\n",
    "\n",
    "# Finding minimum and maximum values for each row\n",
    "min_values = np.min(matrix_4x4, axis=1)\n",
    "max_values = np.max(matrix_4x4, axis=1)\n",
    "\n",
    "# Creating a new column using the maximum value rounded to the nearest integer\n",
    "rounded_max_value = np.round(max_values, 0)\n",
    "matrix_with_new_column = np.column_stack((matrix_4x4, rounded_max_value))\n",
    "\n",
    "print(\"Average of absolute values per row:\")\n",
    "print(average_abs_values)\n",
    "print(\"\\nMinimum values per row:\")\n",
    "print(min_values)\n",
    "print(\"\\nMaximum values per row:\")\n",
    "print(max_values)\n",
    "print(\"\\nMatrix with new rounded max column:\")\n",
    "print(matrix_with_new_column)\n"
   ]
  },
  {
   "cell_type": "markdown",
   "metadata": {},
   "source": [
    "Place 10 points randomly on a plane, then calculate the distance vectors between these different points. How many distance calculations do you do? Visualize points with matplotlib"
   ]
  },
  {
   "cell_type": "code",
   "execution_count": null,
   "metadata": {},
   "outputs": [],
   "source": [
    "import numpy as np\n",
    "import matplotlib.pyplot as plt\n",
    "\n",
    "# Generating 10 random points on a plane\n",
    "num_points = 10\n",
    "x_coords = np.random.rand(num_points)\n",
    "y_coords = np.random.rand(num_points)\n",
    "\n",
    "# Calculating distance vectors between points\n",
    "points = np.column_stack((x_coords, y_coords))\n",
    "distances = np.zeros((num_points, num_points))\n",
    "for i in range(num_points):\n",
    "    for j in range(num_points):\n",
    "        distances[i, j] = np.linalg.norm(points[i] - points[j])\n",
    "\n",
    "# Counting distance calculations\n",
    "num_distance_calculations = num_points * (num_points - 1) // 2\n",
    "\n",
    "# Visualizing points\n",
    "plt.scatter(x_coords, y_coords, color='blue')\n",
    "plt.title('Randomly Placed Points on a Plane')\n",
    "plt.xlabel('X-axis')\n",
    "plt.ylabel('Y-axis')\n",
    "plt.show()\n",
    "\n",
    "print(f\"Number of distance calculations: {num_distance_calculations}\")\n"
   ]
  },
  {
   "cell_type": "markdown",
   "metadata": {},
   "source": [
    "Now visualize these distances on the plan, still with matplotlib"
   ]
  },
  {
   "cell_type": "code",
   "execution_count": null,
   "metadata": {},
   "outputs": [],
   "source": [
    "import numpy as np\n",
    "import matplotlib.pyplot as plt\n",
    "\n",
    "# Generating 10 random points on a plane\n",
    "num_points = 10\n",
    "x_coords = np.random.rand(num_points)\n",
    "y_coords = np.random.rand(num_points)\n",
    "\n",
    "# Calculating distance vectors between points\n",
    "points = np.column_stack((x_coords, y_coords))\n",
    "distances = np.zeros((num_points, num_points))\n",
    "for i in range(num_points):\n",
    "    for j in range(num_points):\n",
    "        distances[i, j] = np.linalg.norm(points[i] - points[j])\n",
    "\n",
    "# Visualizing points and their connections based on distances\n",
    "plt.scatter(x_coords, y_coords, color='blue')\n",
    "for i in range(num_points):\n",
    "    for j in range(i+1, num_points):\n",
    "        plt.plot([x_coords[i], x_coords[j]], [y_coords[i], y_coords[j]], color='black', alpha=0.5)\n",
    "\n",
    "plt.title('Distances between Randomly Placed Points on a Plane')\n",
    "plt.xlabel('X-axis')\n",
    "plt.ylabel('Y-axis')\n",
    "plt.show()\n"
   ]
  },
  {
   "cell_type": "markdown",
   "metadata": {},
   "source": [
    "Create a list of randomly generated integers, and use np.mod (for modulo) to identify indexes of even numbers"
   ]
  },
  {
   "cell_type": "code",
   "execution_count": null,
   "metadata": {},
   "outputs": [],
   "source": [
    "import numpy as np\n",
    "\n",
    "# Generating a list of randomly generated integers\n",
    "random_integers = np.random.randint(1, 100, 20)\n",
    "\n",
    "# Identifying indexes of even numbers using np.mod\n",
    "even_indexes = np.where(np.mod(random_integers, 2) == 0)\n",
    "\n",
    "print(\"Randomly generated integers:\", random_integers)\n",
    "print(\"Indexes of even numbers:\", even_indexes)\n"
   ]
  },
  {
   "cell_type": "markdown",
   "metadata": {},
   "source": [
    "**Fonctions universelles**"
   ]
  },
  {
   "cell_type": "markdown",
   "metadata": {},
   "source": [
    "Take the vector {3,4,6,9} and use the add and multiply functions"
   ]
  },
  {
   "cell_type": "code",
   "execution_count": null,
   "metadata": {},
   "outputs": [],
   "source": [
    "import numpy as np\n",
    "\n",
    "vector = np.array([3, 4, 6, 9])\n",
    "\n",
    "# Adding 5 to each element of the vector\n",
    "add_result = np.add(vector, 5)\n",
    "\n",
    "# Multiplying each element of the vector by 2\n",
    "multiply_result = np.multiply(vector, 2)\n",
    "\n",
    "print(\"Vector:\", vector)\n",
    "print(\"Vector after adding 5 to each element:\", add_result)\n",
    "print(\"Vector after multiplying each element by 2:\", multiply_result)\n"
   ]
  },
  {
   "cell_type": "markdown",
   "metadata": {},
   "source": [
    "Use multiply.outer on two vectors, and explain the nature of the corresponding operations"
   ]
  },
  {
   "cell_type": "code",
   "execution_count": null,
   "metadata": {},
   "outputs": [],
   "source": [
    "import numpy as np\n",
    "\n",
    "# Define two vectors\n",
    "vector1 = np.array([1, 2, 3])\n",
    "vector2 = np.array([4, 5, 6])\n",
    "\n",
    "# Compute the outer product using multiply.outer\n",
    "outer_product = np.multiply.outer(vector1, vector2)\n",
    "\n",
    "print(\"Vector 1:\", vector1)\n",
    "print(\"Vector 2:\", vector2)\n",
    "print(\"\\nOuter Product:\")\n",
    "print(outer_product)\n"
   ]
  },
  {
   "cell_type": "markdown",
   "metadata": {},
   "source": [
    "Apply the negative function to the array [2,3,5]"
   ]
  },
  {
   "cell_type": "code",
   "execution_count": null,
   "metadata": {},
   "outputs": [],
   "source": [
    "import numpy as np\n",
    "\n",
    "# Define an array\n",
    "array = np.array([2, 3, 5])\n",
    "\n",
    "# Applying the negative function to the array\n",
    "negated_array = np.negative(array)\n",
    "\n",
    "print(\"Original Array:\", array)\n",
    "print(\"Array after applying negative function:\", negated_array)\n"
   ]
  },
  {
   "cell_type": "markdown",
   "metadata": {},
   "source": [
    "**Numpy and strings**"
   ]
  },
  {
   "cell_type": "markdown",
   "metadata": {},
   "source": [
    "Merge two arrays each comprising two strings, using the np.char.add function"
   ]
  },
  {
   "cell_type": "code",
   "execution_count": null,
   "metadata": {},
   "outputs": [],
   "source": [
    "import numpy as np\n",
    "\n",
    "# Define two arrays with strings\n",
    "array1 = np.array(['Hello ', 'World'])\n",
    "array2 = np.array(['Open', 'AI'])\n",
    "\n",
    "# Merge the arrays using np.char.add\n",
    "merged_array = np.char.add(array1, array2)\n",
    "\n",
    "print(\"Array 1:\", array1)\n",
    "print(\"Array 2:\", array2)\n",
    "print(\"Merged Array:\", merged_array)\n"
   ]
  },
  {
   "cell_type": "markdown",
   "metadata": {},
   "source": [
    "Use the np.char.join function to insert the symbol \";\" into a 5-character string. between each letter"
   ]
  },
  {
   "cell_type": "code",
   "execution_count": null,
   "metadata": {},
   "outputs": [],
   "source": []
  },
  {
   "cell_type": "markdown",
   "metadata": {},
   "source": [
    "Use the np.char.upper function on the character string of your choice"
   ]
  },
  {
   "cell_type": "code",
   "execution_count": null,
   "metadata": {},
   "outputs": [],
   "source": []
  },
  {
   "cell_type": "markdown",
   "metadata": {},
   "source": [
    "Use np.char.replace to demonstrate how to replace one string (in a sentence) with another"
   ]
  },
  {
   "cell_type": "code",
   "execution_count": null,
   "metadata": {},
   "outputs": [],
   "source": []
  },
  {
   "cell_type": "markdown",
   "metadata": {},
   "source": [
    "Use np.char.split to split an array containing two sentences into as many elements as there are words in them"
   ]
  },
  {
   "cell_type": "code",
   "execution_count": null,
   "metadata": {},
   "outputs": [],
   "source": []
  },
  {
   "cell_type": "markdown",
   "metadata": {},
   "source": [
    "Create an array containing three strings including a repeated pattern, common to the three elements. Use np.char.count to count the number of times this pattern is repeated"
   ]
  },
  {
   "cell_type": "code",
   "execution_count": null,
   "metadata": {},
   "outputs": [],
   "source": []
  },
  {
   "cell_type": "markdown",
   "metadata": {},
   "source": [
    "Modify an array of length 5 by inserting elements, then removing some"
   ]
  },
  {
   "cell_type": "code",
   "execution_count": null,
   "metadata": {},
   "outputs": [],
   "source": []
  },
  {
   "cell_type": "markdown",
   "metadata": {},
   "source": [
    "Write a NumPy program to add a border (padded with 0s) around an existing array. You need two layers of zeros all around"
   ]
  },
  {
   "cell_type": "code",
   "execution_count": null,
   "metadata": {},
   "outputs": [],
   "source": []
  },
  {
   "cell_type": "markdown",
   "metadata": {},
   "source": [
    "Write a NumPy program to create a 5x5 array with random values ​​and normalize it by row"
   ]
  },
  {
   "cell_type": "code",
   "execution_count": null,
   "metadata": {},
   "outputs": [],
   "source": []
  },
  {
   "cell_type": "markdown",
   "metadata": {},
   "source": [
    "**Pour aller plus loin que la simple maîtrise des fonctions Numpy** (ChatGPT interdit)"
   ]
  },
  {
   "cell_type": "markdown",
   "metadata": {},
   "source": [
    "Nous vous proposons quelques exercices de programmation, pour aller au-delà de la simple connaissance de fonctions"
   ]
  },
  {
   "cell_type": "markdown",
   "metadata": {},
   "source": [
    "*Exercice 1*"
   ]
  },
  {
   "cell_type": "markdown",
   "metadata": {},
   "source": [
    "Si le produit de deux nombres entiers est égal ou inférieur à 1 000, renvoyez le produit ; sinon, renvoyez leur somme. Nous attendons de vous que vous construisiez une fonction. numéro1 = 20,\n",
    "nombre2 = 30, la sortie est 600"
   ]
  },
  {
   "cell_type": "code",
   "execution_count": null,
   "metadata": {},
   "outputs": [],
   "source": []
  },
  {
   "cell_type": "markdown",
   "metadata": {},
   "source": [
    "*Exercice 2*"
   ]
  },
  {
   "cell_type": "markdown",
   "metadata": {},
   "source": [
    "Créez un programme qui invite l'utilisateur à saisir une chaîne, puis affiche\n",
    "les caractères situés à des positions d'index paires. Par exemple, si la chaîne est\n",
    "\"exemple\", le programme doit afficher les caractères \"x\", \"m\", \"l\"."
   ]
  },
  {
   "cell_type": "code",
   "execution_count": null,
   "metadata": {},
   "outputs": [],
   "source": []
  },
  {
   "cell_type": "markdown",
   "metadata": {},
   "source": [
    "*Exercice 3*"
   ]
  },
  {
   "cell_type": "markdown",
   "metadata": {},
   "source": [
    "Créez un programme qui prend une chaîne en entrée et supprime les caractères de\n",
    "le début de la chaîne jusqu'à un index spécifié, ce qui donne une nouvelle chaîne.\n",
    "Par exemple, si nous appelons la fonction remove chars(”example”, 3), la sortie\n",
    "devrait être « mple ». Notez que l'index spécifié, noté 'n', doit être inférieur à la longueur de\n",
    "la chaîne."
   ]
  },
  {
   "cell_type": "code",
   "execution_count": null,
   "metadata": {},
   "outputs": [],
   "source": []
  },
  {
   "cell_type": "markdown",
   "metadata": {},
   "source": [
    "*Exercice 4*"
   ]
  },
  {
   "cell_type": "markdown",
   "metadata": {},
   "source": [
    "Itérer la liste de nombres donnée et imprimer uniquement les nombres divisibles\n",
    "par 5:  la liste donnée est [10, 20, 33, 46, 55] Divisible par 5 : 10, 20, 55"
   ]
  },
  {
   "cell_type": "code",
   "execution_count": null,
   "metadata": {},
   "outputs": [],
   "source": []
  },
  {
   "cell_type": "markdown",
   "metadata": {},
   "source": [
    "*Exercice 5*"
   ]
  },
  {
   "cell_type": "markdown",
   "metadata": {},
   "source": [
    "Développer un programme qui détermine le nombre d'occurrences de la sous-chaîne\n",
    "\"Emma\" dans une chaîne donnée.\n",
    "• Donné : « Emma est une bonne développeuse. Emma est institutrice. »\n",
    "• Résultat attendu : Emma est apparue 2 fois\n",
    "Faites-le une fois avec la méthode « count » de chaîne, une fois sans."
   ]
  },
  {
   "cell_type": "code",
   "execution_count": null,
   "metadata": {},
   "outputs": [],
   "source": []
  },
  {
   "cell_type": "markdown",
   "metadata": {},
   "source": [
    "*Exercice 6*"
   ]
  },
  {
   "cell_type": "markdown",
   "metadata": {},
   "source": [
    "Écrivez un programme pour vérifier si le nombre donné est un nombre palindrome.\n",
    "Un nombre palindrome est un nombre qui est le même après l'inverse. Par exemple\n",
    "545, ce sont les nombres palindromes\n",
    "Production attendue:\n",
    "• numéro original 121 : Oui. le nombre donné est le numéro du palindrome\n",
    "• numéro d'origine 125 : le numéro donné n'est pas un numéro palindrome"
   ]
  },
  {
   "cell_type": "code",
   "execution_count": null,
   "metadata": {},
   "outputs": [],
   "source": []
  },
  {
   "cell_type": "markdown",
   "metadata": {},
   "source": [
    "*Exercice 7*"
   ]
  },
  {
   "cell_type": "markdown",
   "metadata": {},
   "source": [
    "Écrivez une boucle while pour afficher chaque caractère d'une chaîne et, si un caractère est\n",
    "numéro : arrêter la boucle."
   ]
  },
  {
   "cell_type": "code",
   "execution_count": null,
   "metadata": {},
   "outputs": [],
   "source": []
  }
 ],
 "metadata": {
  "kernelspec": {
   "display_name": "Python 3",
   "language": "python",
   "name": "python3"
  },
  "language_info": {
   "codemirror_mode": {
    "name": "ipython",
    "version": 3
   },
   "file_extension": ".py",
   "mimetype": "text/x-python",
   "name": "python",
   "nbconvert_exporter": "python",
   "pygments_lexer": "ipython3",
   "version": "3.10.4"
  }
 },
 "nbformat": 4,
 "nbformat_minor": 2
}
